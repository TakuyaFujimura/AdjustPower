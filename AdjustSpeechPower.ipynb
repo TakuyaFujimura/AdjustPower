{
  "cells": [
    {
      "cell_type": "markdown",
      "metadata": {
        "colab_type": "text",
        "id": "view-in-github"
      },
      "source": [
        "<a href=\"https://colab.research.google.com/github/TakuyaFujimura/AdjustSpeechPower/blob/main/AdjustSpeechPower.ipynb\" target=\"_parent\"><img src=\"https://colab.research.google.com/assets/colab-badge.svg\" alt=\"Open In Colab\"/></a>"
      ]
    },
    {
      "cell_type": "markdown",
      "metadata": {
        "id": "WTtB1dZx-ivr"
      },
      "source": [
        "## **Introduction**"
      ]
    },
    {
      "cell_type": "markdown",
      "metadata": {
        "id": "qEip70fX9e_A"
      },
      "source": [
        "[事前学習済み音声区間検出モデル](https://pytorch.org/hub/snakers4_silero-vad_vad/)により検出された各音声区間でのRoot Mean Square (RMS) が一定となるよう，音量を調整します．\n",
        "\n",
        "非音声区間には処理を施しません．\n",
        "\n",
        "\n",
        "**How to use**\n",
        "1. Settingsを実行して下さい．\n",
        "2. input_dataフォルダに処理対象の音声ファイルをアップロードして下さい．\n",
        " * アップロードするファイルの拡張子は**wav**でお願いします．\n",
        " * https://convertio.co/ja/wav-converter/ などでもwavに変換できます．\n",
        "3. Processingを実行して下さい．処理結果はoutput_dataフォルダに保存されています．\n",
        " * outputフォルダに存在する.txtファイルには処理時の情報が保存されています．\n",
        " * 処理のために，入力信号のフォーマットを統一しています．フォーマット統一後の信号はconvertedフォルダに保存されています．\n",
        "4. Visualizationを実行すると，処理結果を確認することができます．\n",
        " * figureフォルダに出力結果が保存されています．\n",
        "\n",
        "**Note**\n",
        "* 再起動したいとき：画面上部の\"ランタイム\"→\"ランタイムを接続解除して削除\"→\"はい\""
      ]
    },
    {
      "cell_type": "markdown",
      "metadata": {
        "id": "VCI-9hcew41x"
      },
      "source": [
        "## **Settings**"
      ]
    },
    {
      "cell_type": "markdown",
      "metadata": {
        "id": "_3FQKnSFw9PR"
      },
      "source": [
        "\n",
        "**Parameter setting**：次のセルで，以下のパラメータを入力して下さい．\n",
        "* `use_drive`：Google driveにデータを保存する場合は`True`，そうでない場合は`False`に設定して下さい．\n",
        " * 例1：`use_drive = True`\n",
        " * 例2：`use_drive = False`\n"
      ]
    },
    {
      "cell_type": "code",
      "execution_count": 1,
      "metadata": {
        "id": "Wb_vUoQf8BkY"
      },
      "outputs": [],
      "source": [
        "use_drive = False"
      ]
    },
    {
      "cell_type": "markdown",
      "metadata": {
        "id": "hJnoVrAC9h_K"
      },
      "source": [
        "**Execution**：次のセルをそのまま実行して下さい．"
      ]
    },
    {
      "cell_type": "code",
      "execution_count": 2,
      "metadata": {
        "colab": {
          "base_uri": "https://localhost:8080/"
        },
        "id": "adzqGxceLsaF",
        "outputId": "24bf1211-b939-47a1-f6a7-574ad4773139"
      },
      "outputs": [
        {
          "name": "stdout",
          "output_type": "stream",
          "text": [
            "Cloning into 'AdjustSpeechPower'...\n",
            "remote: Enumerating objects: 78, done.\u001b[K\n",
            "remote: Counting objects: 100% (78/78), done.\u001b[K\n",
            "remote: Compressing objects: 100% (56/56), done.\u001b[K\n",
            "remote: Total 78 (delta 38), reused 50 (delta 19), pack-reused 0\u001b[K\n",
            "Unpacking objects: 100% (78/78), 14.03 KiB | 435.00 KiB/s, done.\n"
          ]
        }
      ],
      "source": [
        "from pathlib import Path\n",
        "directory_name_list = [\"input_data\", \"output_data\", \"converted_dir\", \"timestamp\", \"figure\"]\n",
        "\n",
        "if use_drive:\n",
        "  from google.colab import drive\n",
        "  drive.mount('/content/drive')\n",
        "  %cd /content/drive/MyDrive\n",
        "  \n",
        "  for directory_name in directory_name_list:\n",
        "    Path(f\"./adjust_data/{directory_name}\").mkdir(exist_ok=True, parents=True)\n",
        "  %cd /content/drive/MyDrive/adjust_data\n",
        "else:\n",
        "  for directory_name in directory_name_list:\n",
        "    Path(directory_name).mkdir(exist_ok=True)\n",
        "\n",
        "!git clone https://github.com/TakuyaFujimura/AdjustSpeechPower.git\n",
        "from AdjustSpeechPower import AdjustSpeechRMS\n",
        "adjust_obj = AdjustSpeechRMS(*directory_name_list)"
      ]
    },
    {
      "cell_type": "markdown",
      "metadata": {
        "id": "ZMrEajxixnyN"
      },
      "source": [
        "## **Processing**"
      ]
    },
    {
      "cell_type": "markdown",
      "metadata": {
        "id": "LH9LlWB0yg1-"
      },
      "source": [
        "**Parameter setting**：次のセルで，以下のパラメータを入力して下さい．\n",
        "* `filepath_list`：処理対象のファイル名\n",
        " * ファイル名はダブルクォーテーションで囲い，複数ファイルを処理したい場合はカンマでつなげて下さい．\n",
        " * 例：`filepath_list = [\"a.wav\", \"b.wav\", \"c.wav\"]`\n",
        "\n",
        "\n"
      ]
    },
    {
      "cell_type": "code",
      "execution_count": 3,
      "metadata": {
        "id": "r45d3IMMBtRL"
      },
      "outputs": [],
      "source": [
        "filename_list = [\"Fvoice.wav\", \"Fvoice2.wav\"]"
      ]
    },
    {
      "cell_type": "markdown",
      "metadata": {
        "id": "dlWdY4ih34dC"
      },
      "source": [
        "**Execution**：次のセルをそのまま実行して下さい．"
      ]
    },
    {
      "cell_type": "code",
      "execution_count": 4,
      "metadata": {
        "colab": {
          "base_uri": "https://localhost:8080/"
        },
        "id": "y-PLjL8_duPD",
        "outputId": "b6204724-66e6-4701-a65d-a921e7498d74"
      },
      "outputs": [
        {
          "name": "stdout",
          "output_type": "stream",
          "text": [
            "Calculate a timestamp and save it as Fvoice.pkl\n"
          ]
        },
        {
          "name": "stderr",
          "output_type": "stream",
          "text": [
            "Downloading: \"https://github.com/snakers4/silero-vad/zipball/master\" to /root/.cache/torch/hub/master.zip\n"
          ]
        },
        {
          "name": "stdout",
          "output_type": "stream",
          "text": [
            "Calculate a timestamp and save it as Fvoice2.pkl\n"
          ]
        }
      ],
      "source": [
        "adjust_obj(filename_list)"
      ]
    },
    {
      "cell_type": "markdown",
      "metadata": {
        "id": "rVSyP7ahzzEL"
      },
      "source": [
        "## **Visualization**"
      ]
    },
    {
      "cell_type": "markdown",
      "metadata": {
        "id": "9-nr-zn7z8JJ"
      },
      "source": [
        "**Parameter setting**：次のセルで，以下のパラメータを入力して下さい．\n",
        "* `filename`：処理結果を確認したいファイル名\n",
        " * ここで指定できるファイル名は1つのみです．\n",
        " * 例：`filename = \"a.wav\"`\n",
        "* `start_sec`：表示する区間の始まり [秒]\n",
        " * 例：`start_sec = 0`\n",
        "* `end_sec`：表示する区間の終わり [秒]\n",
        " * 例：`end_sec = 15`"
      ]
    },
    {
      "cell_type": "code",
      "execution_count": 5,
      "metadata": {
        "id": "Tmtwxjlgz68S"
      },
      "outputs": [],
      "source": [
        "filename = \"Fvoice.wav\"\n",
        "start_sec = 0\n",
        "end_sec = 15"
      ]
    },
    {
      "cell_type": "markdown",
      "metadata": {
        "id": "aE5x5yyR2ryY"
      },
      "source": [
        "**Execution**：次のセルをそのまま実行して下さい．"
      ]
    },
    {
      "cell_type": "code",
      "execution_count": 6,
      "metadata": {
        "colab": {
          "base_uri": "https://localhost:8080/",
          "height": 387
        },
        "id": "h4WIWMose4TC",
        "outputId": "2315e1bb-d5bf-4b0e-fb84-7260e4ec57b7"
      },
      "outputs": [
        {
          "name": "stdout",
          "output_type": "stream",
          "text": [
            "Use a saved timestamp: Fvoice.pkl\n"
          ]
        },
        {
          "data": {
            "image/png": "[encoded data removed]",
            "text/plain": [
              "<Figure size 1008x360 with 2 Axes>"
            ]
          },
          "metadata": {
            "needs_background": "light"
          },
          "output_type": "display_data"
        }
      ],
      "source": [
        "adjust_obj.plot_figs(filename, start_sec, end_sec)"
      ]
    },
    {
      "cell_type": "markdown",
      "metadata": {
        "id": "JcrrROWbt9JY"
      },
      "source": [
        "## **Split and concat the wav file**"
      ]
    },
    {
      "cell_type": "markdown",
      "metadata": {
        "id": "4hgQWRgJRMMT"
      },
      "source": [
        "* wavファイルを分割・連結するためのプログラムです．\n",
        "* 時間が長いファイルは分割→処理→連結とすることができます．"
      ]
    },
    {
      "cell_type": "markdown",
      "metadata": {
        "id": "eI0pf48auiZL"
      },
      "source": [
        "Split"
      ]
    },
    {
      "cell_type": "markdown",
      "metadata": {
        "id": "LIaqXQnYR-OQ"
      },
      "source": [
        "**Parameter setting**：次のセルで，以下のパラメータを入力して下さい．\n",
        "* `filename`：分割対象のファイル名\n",
        "* `n_split`：分割数\n",
        "\n",
        "* 処理結果はinput_dataフォルダに`filename_id.wav`の形式で保存されています．"
      ]
    },
    {
      "cell_type": "code",
      "execution_count": 7,
      "metadata": {
        "id": "f2MkYc08uLWx"
      },
      "outputs": [],
      "source": [
        "filename = \"Fvoice.wav\"\n",
        "n_split = 3"
      ]
    },
    {
      "cell_type": "markdown",
      "metadata": {
        "id": "FBEnHjPLS3dR"
      },
      "source": [
        "**Execution**：次のセルをそのまま実行して下さい．"
      ]
    },
    {
      "cell_type": "code",
      "execution_count": 8,
      "metadata": {
        "id": "qNu-6SggZ1f6"
      },
      "outputs": [],
      "source": [
        "from AdjustSpeechPower import wav_split\n",
        "wav_split(f\"input_data/{filename}\", n_split)"
      ]
    },
    {
      "cell_type": "markdown",
      "metadata": {
        "id": "A-u6bO1JuqeN"
      },
      "source": [
        "Concatenate"
      ]
    },
    {
      "cell_type": "markdown",
      "metadata": {
        "id": "JWEFaJzHS50z"
      },
      "source": [
        "**Parameter setting**：次のセルで，以下のパラメータを入力して下さい．\n",
        "* `filename_list`：連結対象のファイル名のリスト\n",
        " * input_dataフォルダに存在するファイルの名前を入力します．\n",
        "* `output_name`：連結したファイルを保存するときの名前\n",
        "\n",
        "\n",
        "* 処理結果はinput_dataフォルダに`output_name`の名前で保存されます．"
      ]
    },
    {
      "cell_type": "code",
      "execution_count": 9,
      "metadata": {
        "id": "JGZKgZIyuqeN"
      },
      "outputs": [],
      "source": [
        "filename_list = [\"Fvoice_0.wav\", \"Fvoice_1.wav\", \"Fvoice_2.wav\"]\n",
        "output_name = \"Fvoice_concat.wav\""
      ]
    },
    {
      "cell_type": "code",
      "execution_count": 11,
      "metadata": {
        "id": "FQdPsP6huqeO"
      },
      "outputs": [],
      "source": [
        "from AdjustSpeechPower import wav_concat\n",
        "wav_concat([f\"output_data/{i}\" for i in filename_list], f\"output_data/{output_name}\")"
      ]
    },
    {
      "cell_type": "code",
      "execution_count": null,
      "metadata": {
        "id": "vu5IWOXxW5gO"
      },
      "outputs": [],
      "source": []
    }
  ],
  "metadata": {
    "colab": {
      "authorship_tag": "ABX9TyMEMBoIw+XYbxtLQmeCdccy",
      "include_colab_link": true,
      "provenance": []
    },
    "kernelspec": {
      "display_name": "Python 3",
      "name": "python3"
    },
    "language_info": {
      "name": "python"
    }
  },
  "nbformat": 4,
  "nbformat_minor": 0
}
